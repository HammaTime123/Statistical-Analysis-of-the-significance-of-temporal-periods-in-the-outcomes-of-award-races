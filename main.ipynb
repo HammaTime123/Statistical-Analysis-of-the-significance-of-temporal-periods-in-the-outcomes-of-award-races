{
 "cells": [
  {
   "cell_type": "markdown",
   "metadata": {},
   "source": [
    "# Method"
   ]
  },
  {
   "cell_type": "markdown",
   "metadata": {},
   "source": [
    "### Import support packages"
   ]
  },
  {
   "cell_type": "code",
   "execution_count": 1,
   "metadata": {},
   "outputs": [],
   "source": [
    "import os\n",
    "import kagglehub\n",
    "from DataGeneration import (\n",
    "    get_season_mvp,\n",
    "    collect_player_stats,\n",
    "    normalize_player_stats,\n",
    "    load_combined_mvp_2001_2023,\n",
    "    fetch_mvp_stats_by_year,\n",
    "    check_missing_players,\n",
    "    print_missing_players,\n",
    "    get_player_season,\n",
    "    generate_3_wide_window,\n",
    ")\n",
    "\n",
    "from DataProcessing import (\n",
    "    get_iterable_window_data,\n",
    ")\n",
    "\n",
    "from DataExploration import (\n",
    "    visualize_combined_sections,    \n",
    ")\n",
    "\n",
    "\n",
    "### make directories\n",
    "player_data_path = 'Raw_player_data_sets'\n",
    "window_player_path = 'windowed_data_sets'\n",
    "\n",
    "os.makedirs(player_data_path, exist_ok=True)\n",
    "os.makedirs(window_player_path, exist_ok=True)\n"
   ]
  },
  {
   "cell_type": "markdown",
   "metadata": {},
   "source": [
    "### Fetch and save dataset"
   ]
  },
  {
   "cell_type": "markdown",
   "metadata": {},
   "source": [
    "Yearly MVP results"
   ]
  },
  {
   "cell_type": "code",
   "execution_count": null,
   "metadata": {},
   "outputs": [],
   "source": [
    "mvp_data = load_combined_mvp_2001_2023()\n",
    "players_by_year = mvp_data.groupby('year')['Player'].apply(list).to_dict()\n",
    "\n",
    "\n",
    "fetch_mvp_stats_by_year(mvp_data, False, player_data_path)\n",
    "\n",
    "tempdic = check_missing_players(players_by_year,player_data_path)"
   ]
  },
  {
   "cell_type": "markdown",
   "metadata": {},
   "source": [
    "### Missing player entries:"
   ]
  },
  {
   "cell_type": "code",
   "execution_count": null,
   "metadata": {},
   "outputs": [],
   "source": [
    "print_missing_players(tempdic)"
   ]
  },
  {
   "cell_type": "markdown",
   "metadata": {},
   "source": [
    "### generate windows and new data sets"
   ]
  },
  {
   "cell_type": "code",
   "execution_count": null,
   "metadata": {},
   "outputs": [],
   "source": [
    "windowed_years = generate_3_wide_window(players_by_year)\n",
    "\n",
    "get_iterable_window_data(players_by_year=players_by_year, data_path=player_data_path)"
   ]
  },
  {
   "cell_type": "markdown",
   "metadata": {},
   "source": []
  },
  {
   "cell_type": "code",
   "execution_count": null,
   "metadata": {},
   "outputs": [],
   "source": [
    "# Define the player data path and players_by_year dictionary for testing purposes\n",
    "player_data_path = 'Raw_player_data_sets'\n",
    "players_by_year = {\n",
    "    2001: ['Allen Iverson', 'Tim Duncan', \"Shaquille O'Neal\"],\n",
    "    2002: ['Tim Duncan', 'Jason Kidd', \"Shaquille O'Neal\"],\n",
    "    2003: ['Tim Duncan', 'Kevin Garnett', 'Kobe Bryant']\n",
    "}\n",
    "\n",
    "# Get the iterator for window data\n",
    "window_data_iterator = get_iterable_window_data(players_by_year, player_data_path)\n",
    "\n",
    "# Save the combined sections from the first iteration\n",
    "first_iteration = next(window_data_iterator)\n",
    "\n",
    "# Save the combined sections as CSV files with meaningful names\n",
    "first_iteration['combined_start_section'].to_csv('combined_start_section_window_2001_2003.csv', index=False)\n",
    "first_iteration['combined_middle_section'].to_csv('combined_middle_section_window_2001_2003.csv', index=False)\n",
    "first_iteration['combined_finish_section'].to_csv('combined_finish_section_window_2001_2003.csv', index=False)\n",
    "\n",
    "visualize_combined_sections(first_iteration['combined_start_section'], first_iteration['combined_middle_section'], first_iteration['combined_finish_section'])\n"
   ]
  }
 ],
 "metadata": {
  "kernelspec": {
   "display_name": "base",
   "language": "python",
   "name": "python3"
  },
  "language_info": {
   "codemirror_mode": {
    "name": "ipython",
    "version": 3
   },
   "file_extension": ".py",
   "mimetype": "text/x-python",
   "name": "python",
   "nbconvert_exporter": "python",
   "pygments_lexer": "ipython3",
   "version": "3.12.2"
  }
 },
 "nbformat": 4,
 "nbformat_minor": 2
}
