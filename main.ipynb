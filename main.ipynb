{
 "cells": [
  {
   "cell_type": "markdown",
   "metadata": {},
   "source": [
    "# Method"
   ]
  },
  {
   "cell_type": "markdown",
   "metadata": {},
   "source": [
    "### Import support packages"
   ]
  },
  {
   "cell_type": "code",
   "execution_count": 11,
   "metadata": {},
   "outputs": [],
   "source": [
    "import os\n",
    "import kagglehub\n",
    "from DataGeneration import (\n",
    "    get_season_mvp,\n",
    "    collect_player_stats,\n",
    "    load_combined_mvp_2001_2023,\n",
    "    fetch_mvp_stats_by_year,\n",
    "    check_missing_players,\n",
    "    print_missing_players,\n",
    "    get_player_season,\n",
    ")\n",
    "\n",
    "from DataProcessing import (\n",
    "    get_iterable_window_data,\n",
    ")\n",
    "\n",
    "from DataExploration import (\n",
    "    visualize_combined_sections,    \n",
    ")\n",
    "\n",
    "\n",
    "### make directories\n",
    "player_data_path = 'Raw_player_data_sets'\n",
    "window_player_path = 'windowed_data_sets'\n",
    "\n",
    "os.makedirs(player_data_path, exist_ok=True)\n",
    "os.makedirs(window_player_path, exist_ok=True)\n"
   ]
  },
  {
   "cell_type": "markdown",
   "metadata": {},
   "source": [
    "### Fetch and save dataset"
   ]
  },
  {
   "cell_type": "markdown",
   "metadata": {},
   "source": [
    "Yearly MVP results"
   ]
  },
  {
   "cell_type": "code",
   "execution_count": null,
   "metadata": {},
   "outputs": [],
   "source": [
    "mvp_data = load_combined_mvp_2001_2023()\n",
    "players_by_year = mvp_data.groupby('year')['Player'].apply(list).to_dict()\n",
    "\n",
    "\n",
    "fetch_mvp_stats_by_year(mvp_data, False, player_data_path)\n",
    "\n",
    "tempdic = check_missing_players(players_by_year,player_data_path)"
   ]
  },
  {
   "cell_type": "markdown",
   "metadata": {},
   "source": [
    "### Missing player entries:"
   ]
  },
  {
   "cell_type": "code",
   "execution_count": null,
   "metadata": {},
   "outputs": [],
   "source": [
    "print_missing_players(tempdic)"
   ]
  },
  {
   "cell_type": "markdown",
   "metadata": {},
   "source": [
    "### generate windows and new data sets"
   ]
  },
  {
   "cell_type": "code",
   "execution_count": null,
   "metadata": {},
   "outputs": [],
   "source": [
    "get_iterable_window_data(players_by_year=players_by_year, data_path=player_data_path)"
   ]
  },
  {
   "cell_type": "markdown",
   "metadata": {},
   "source": [
    "### run to get visualisations of a given window\n",
    "### remember to enter a number!"
   ]
  },
  {
   "cell_type": "code",
   "execution_count": null,
   "metadata": {},
   "outputs": [],
   "source": [
    "# Define player data path and players_by_year dictionary\n",
    "player_data_path = 'Raw_player_data_sets'\n",
    "\n",
    "# Get the iterator for window data\n",
    "window_data_iterator = get_iterable_window_data(players_by_year, player_data_path)\n",
    "\n",
    "# Convert the iterator to a list to allow indexing for selection\n",
    "windows_data = list(window_data_iterator)\n",
    "\n",
    "# List the available windows for selection\n",
    "for i, window in enumerate(windows_data):\n",
    "    print(f\"Window {i}: Years - {window['window_years']}\")\n",
    "\n",
    "# Let the user choose a window\n",
    "selected_window_index = int(input(\"Enter the window number you want to visualize: \"))\n",
    "\n",
    "# Get the selected window's data\n",
    "selected_window_data = windows_data[selected_window_index]\n",
    "\n",
    "# Extract the combined sections\n",
    "combined_start_section = selected_window_data['combined_start_section']\n",
    "combined_middle_section = selected_window_data['combined_middle_section']\n",
    "combined_finish_section = selected_window_data['combined_finish_section']\n",
    "\n",
    "# Generate the visualizations for the selected window\n",
    "visualize_combined_sections(combined_start_section, combined_middle_section, combined_finish_section)\n"
   ]
  },
  {
   "cell_type": "markdown",
   "metadata": {},
   "source": [
    "### Data modelling"
   ]
  },
  {
   "cell_type": "code",
   "execution_count": null,
   "metadata": {},
   "outputs": [],
   "source": []
  }
 ],
 "metadata": {
  "kernelspec": {
   "display_name": "base",
   "language": "python",
   "name": "python3"
  },
  "language_info": {
   "codemirror_mode": {
    "name": "ipython",
    "version": 3
   },
   "file_extension": ".py",
   "mimetype": "text/x-python",
   "name": "python",
   "nbconvert_exporter": "python",
   "pygments_lexer": "ipython3",
   "version": "3.12.2"
  }
 },
 "nbformat": 4,
 "nbformat_minor": 2
}
