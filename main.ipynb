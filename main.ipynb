{
 "cells": [
  {
   "cell_type": "markdown",
   "metadata": {},
   "source": [
    "# Method"
   ]
  },
  {
   "cell_type": "markdown",
   "metadata": {},
   "source": [
    "### Import support packages"
   ]
  },
  {
   "cell_type": "code",
   "execution_count": null,
   "metadata": {},
   "outputs": [],
   "source": [
    "import os\n",
    "import kagglehub\n",
    "from IPython.display import clear_output\n",
    "\n",
    "\n",
    "from DataGeneration import (\n",
    "    get_season_mvp,\n",
    "    collect_player_stats,\n",
    "    load_combined_mvp_2001_2023,\n",
    "    fetch_mvp_stats_by_year,\n",
    "    check_missing_players,\n",
    "    print_missing_players,\n",
    "    get_player_season,\n",
    ")\n",
    "\n",
    "from DataProcessing import (\n",
    "    get_iterable_window_data,\n",
    ")\n",
    "\n",
    "from DataExploration import (\n",
    "    visualize_combined_sections,    \n",
    ")\n",
    "\n",
    "from DataModelling import (\n",
    "    analyze_season_sections,\n",
    ")\n",
    "\n",
    "from DataFinalDisplay import (\n",
    "    analyze_mvp_share_importance_over_time_sliding_windows\n",
    ")\n",
    "\n",
    "### make directories\n",
    "player_data_path = 'Raw_player_data_sets'\n",
    "window_player_path = 'windowed_data_sets'\n",
    "\n",
    "os.makedirs(player_data_path, exist_ok=True)\n",
    "os.makedirs(window_player_path, exist_ok=True)\n",
    "\n",
    "custom_control_input = input(\"Do you want custom control? (yes/no): \").strip().lower()\n",
    "custom_control = True if custom_control_input == 'yes' else False\n",
    "\n"
   ]
  },
  {
   "cell_type": "markdown",
   "metadata": {},
   "source": [
    "### Fetch and save dataset"
   ]
  },
  {
   "cell_type": "markdown",
   "metadata": {},
   "source": [
    "Yearly MVP results"
   ]
  },
  {
   "cell_type": "code",
   "execution_count": null,
   "metadata": {},
   "outputs": [],
   "source": [
    "mvp_data = load_combined_mvp_2001_2023()\n",
    "players_by_year = mvp_data.groupby('year')['Player'].apply(list).to_dict()\n",
    "\n",
    "\n",
    "fetch_mvp_stats_by_year(mvp_data, False, player_data_path, combined_mvp_data_path= \"MVP_data-sets/combined_MVP_data_set.csv\")\n",
    "\n",
    "tempdic = check_missing_players(players_by_year,player_data_path)"
   ]
  },
  {
   "cell_type": "markdown",
   "metadata": {},
   "source": [
    "### Missing player entries:"
   ]
  },
  {
   "cell_type": "code",
   "execution_count": null,
   "metadata": {},
   "outputs": [],
   "source": [
    "print_missing_players(tempdic)"
   ]
  },
  {
   "cell_type": "markdown",
   "metadata": {},
   "source": [
    "### generate windows and new data sets"
   ]
  },
  {
   "cell_type": "code",
   "execution_count": null,
   "metadata": {},
   "outputs": [],
   "source": [
    "get_iterable_window_data(players_by_year=players_by_year, data_path=player_data_path, mvp_data_path=\"MVP_data-sets/combined_MVP_data_set.csv\")"
   ]
  },
  {
   "cell_type": "markdown",
   "metadata": {},
   "source": [
    "### run to get visualisations of a given window\n",
    "### remember to enter a number!"
   ]
  },
  {
   "cell_type": "code",
   "execution_count": null,
   "metadata": {},
   "outputs": [],
   "source": [
    "# Define player data path and players_by_year dictionary\n",
    "player_data_path = 'Raw_player_data_sets'\n",
    "\n",
    "\n",
    "if custom_control:\n",
    "    # Get the iterator for window data, allow user to choose whether to split into sections or use full season\n",
    "    split_choice = input(\"Do you want to split the season into start, middle, and finish sections? (yes/no): \").strip().lower()\n",
    "    split_into_sections = True if split_choice == 'yes' else False\n",
    "else:\n",
    "    split_into_sections = True\n",
    "\n",
    "\n",
    "# Get the iterator for window data\n",
    "window_data_iterator = get_iterable_window_data(players_by_year, player_data_path, split_into_sections=split_into_sections,mvp_data_path=\"MVP_data-sets/combined_MVP_data_set.csv\", return_aggregated=False)\n",
    "\n",
    "# Convert the iterator to a list to allow indexing for selection\n",
    "windows_data = list(window_data_iterator)\n",
    "\n",
    "\n",
    "###\n",
    "### un-comment for data exploration graphics\n",
    "###\n",
    "\n",
    "if custom_control:\n",
    "    # List the available windows for selection\n",
    "    for i, window in enumerate(windows_data):\n",
    "        print(f\"Window {i}: Years - {window['window_years']}\")\n",
    "\n",
    "    # Let the user choose a window\n",
    "    selected_window_index = int(input(\"Enter the window number you want to visualize: \"))\n",
    "else:\n",
    "    selected_window_index = 18\n",
    "\n",
    "\n",
    "\n",
    "# Get the selected window's data\n",
    "selected_window_data = windows_data[selected_window_index]\n",
    "\n",
    "# Generate the visualizations for the selected window based on the user's choice\n",
    "if split_into_sections:\n",
    "    # Extract the combined sections\n",
    "    combined_start_section = selected_window_data['combined_start_section']\n",
    "    combined_middle_section = selected_window_data['combined_middle_section']\n",
    "    combined_finish_section = selected_window_data['combined_finish_section']\n",
    "\n",
    "    # Generate the visualizations for the selected window with divided sections\n",
    "    visualize_combined_sections(\n",
    "        start_section=combined_start_section,\n",
    "        middle_section=combined_middle_section,\n",
    "        finish_section=combined_finish_section,\n",
    "        save_plots=True\n",
    "    )\n",
    "\n",
    "\n",
    "\n",
    "else:\n",
    "    # Extract the combined season\n",
    "    combined_season = selected_window_data['combined_season']\n",
    "    # Generate the visualizations for the selected window with the full season\n",
    "    visualize_combined_sections(combined_season=combined_season)\n"
   ]
  },
  {
   "cell_type": "markdown",
   "metadata": {},
   "source": [
    "### Data modelling"
   ]
  },
  {
   "cell_type": "code",
   "execution_count": 6,
   "metadata": {},
   "outputs": [],
   "source": [
    "### genrate new iterable to use\n",
    "window_for_modelling = get_iterable_window_data(players_by_year, player_data_path, split_into_sections=True,mvp_data_path=\"MVP_data-sets/combined_MVP_data_set.csv\", return_aggregated=False)\n",
    "\n",
    "window_data_iterator = analyze_season_sections(window_for_modelling, verbose=False)\n",
    " \n"
   ]
  },
  {
   "cell_type": "markdown",
   "metadata": {},
   "source": [
    "### gnerate trends"
   ]
  },
  {
   "cell_type": "code",
   "execution_count": null,
   "metadata": {},
   "outputs": [],
   "source": [
    "# Your list of overlapping windows\n",
    "windows = [\n",
    "    [2001, 2002, 2003],\n",
    "    [2002, 2003, 2004],\n",
    "    [2003, 2004, 2005],\n",
    "    [2004, 2005, 2006],\n",
    "    [2005, 2006, 2007],\n",
    "    [2006, 2007, 2008],\n",
    "    [2007, 2008, 2009],\n",
    "    [2008, 2009, 2010],\n",
    "    [2009, 2010, 2011],\n",
    "    [2010, 2011, 2012],\n",
    "    [2011, 2012, 2013],\n",
    "    [2012, 2013, 2014],\n",
    "    [2013, 2014, 2015],\n",
    "    [2014, 2015, 2016],\n",
    "    [2015, 2016, 2017],\n",
    "    [2016, 2017, 2018],\n",
    "    [2017, 2018, 2019],\n",
    "    [2018, 2019, 2020],\n",
    "    [2019, 2020, 2021],\n",
    "    [2020, 2021, 2022],\n",
    "    [2021, 2022, 2023]\n",
    "]\n",
    "\n",
    "# Generate window_identifiers using the starting year of each window\n",
    "window_identifiers = [window[0] for window in windows]\n",
    "\n",
    "feature_importances_over_time, stat_results_df = analyze_mvp_share_importance_over_time_sliding_windows(\n",
    "    window_data_iterator=window_data_iterator,\n",
    "    window_identifiers=window_identifiers,\n",
    "    verbose=True,\n",
    "    plot_trends=True,\n",
    "    plot_predictions=[2018],\n",
    "    test_size=0.2,\n",
    "    random_state=42\n",
    ")"
   ]
  }
 ],
 "metadata": {
  "kernelspec": {
   "display_name": "Python 3",
   "language": "python",
   "name": "python3"
  },
  "language_info": {
   "codemirror_mode": {
    "name": "ipython",
    "version": 3
   },
   "file_extension": ".py",
   "mimetype": "text/x-python",
   "name": "python",
   "nbconvert_exporter": "python",
   "pygments_lexer": "ipython3",
   "version": "3.12.7"
  }
 },
 "nbformat": 4,
 "nbformat_minor": 2
}
