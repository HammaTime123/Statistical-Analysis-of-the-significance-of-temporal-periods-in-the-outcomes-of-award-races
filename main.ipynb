{
 "cells": [
  {
   "cell_type": "markdown",
   "metadata": {},
   "source": [
    "# Method"
   ]
  },
  {
   "cell_type": "markdown",
   "metadata": {},
   "source": [
    "### Import support packages"
   ]
  },
  {
   "cell_type": "code",
   "execution_count": 1,
   "metadata": {},
   "outputs": [],
   "source": [
    "import os\n",
    "import kagglehub\n",
    "from DataGeneration import (\n",
    "    get_season_mvp,\n",
    "    collect_player_stats,\n",
    "    normalize_player_stats,\n",
    "    load_combined_mvp_2001_2023,\n",
    "    fetch_mvp_stats_by_year,\n",
    "    check_missing_players,\n",
    "    print_missing_players,\n",
    "    get_player_season,\n",
    "    generate_3_wide_window,\n",
    ")\n",
    "\n",
    "from DataProcessing import (\n",
    "    get_iterable_window_data,\n",
    ")\n",
    "\n",
    "\n",
    "### make directories\n",
    "player_data_path = 'Raw_player_data_sets'\n",
    "window_player_path = 'windowed_data_sets'\n",
    "\n",
    "os.makedirs(player_data_path, exist_ok=True)\n",
    "os.makedirs(window_player_path, exist_ok=True)\n"
   ]
  },
  {
   "cell_type": "markdown",
   "metadata": {},
   "source": [
    "### Fetch and save dataset"
   ]
  },
  {
   "cell_type": "markdown",
   "metadata": {},
   "source": [
    "Yearly MVP results"
   ]
  },
  {
   "cell_type": "code",
   "execution_count": 2,
   "metadata": {},
   "outputs": [
    {
     "name": "stdout",
     "output_type": "stream",
     "text": [
      "2001 :  ['Allen Iverson', 'Tim Duncan', \"Shaquille O'Neal\", 'Chris Webber', 'Kevin Garnett', 'Tracy McGrady', 'Karl Malone', 'Jason Kidd', 'Kobe Bryant', 'David Robinson', 'Ray Allen', 'Vince Carter', 'Paul Pierce', 'Jerry Stackhouse', 'Michael Finley', 'Anthony Mason', 'John Stockton']\n",
      "Data for year 2001 already exists at Raw_player_data_sets/mvp_stats_2001.csv. Checking formatting...\n",
      "Column names reformatted for year 2001 if necessary. Skipping fetching...\n",
      "2002 :  ['Tim Duncan', 'Jason Kidd', \"Shaquille O'Neal\", 'Tracy McGrady', 'Kobe Bryant', 'Gary Payton', 'Chris Webber', 'Dirk Nowitzki', 'Allen Iverson', 'Ben Wallace', 'Paul Pierce', 'Kevin Garnett', 'Michael Jordan', 'Steve Nash', 'Jerry Stackhouse', 'Mike Bibby', 'Elton Brand', 'Peja Stojaković']\n",
      "Data for year 2002 already exists at Raw_player_data_sets/mvp_stats_2002.csv. Checking formatting...\n",
      "Column names reformatted for year 2002 if necessary. Skipping fetching...\n",
      "2003 :  ['Tim Duncan', 'Kevin Garnett', 'Kobe Bryant', 'Tracy McGrady', \"Shaquille O'Neal\", 'Allen Iverson', 'Dirk Nowitzki', 'Ben Wallace', 'Jason Kidd', 'Chris Webber', 'Jamal Mashburn', 'Steve Nash', 'Paul Pierce']\n",
      "Data for year 2003 already exists at Raw_player_data_sets/mvp_stats_2003.csv. Checking formatting...\n",
      "Column names reformatted for year 2003 if necessary. Skipping fetching...\n",
      "2004 :  ['Kevin Garnett', 'Tim Duncan', \"Jermaine O'Neal\", 'Peja Stojaković', 'Kobe Bryant', \"Shaquille O'Neal\", 'Ben Wallace', 'Jason Kidd', 'LeBron James', 'Sam Cassell', 'Baron Davis', 'Dirk Nowitzki', 'Andrei Kirilenko', 'Carmelo Anthony', 'Yao Ming', 'Michael Redd']\n",
      "Data for year 2004 already exists at Raw_player_data_sets/mvp_stats_2004.csv. Checking formatting...\n",
      "Column names reformatted for year 2004 if necessary. Skipping fetching...\n",
      "2005 :  ['Steve Nash', \"Shaquille O'Neal\", 'Dirk Nowitzki', 'Tim Duncan', 'Allen Iverson', 'LeBron James', 'Tracy McGrady', 'Dwyane Wade', \"Amar'e Stoudemire\", 'Ray Allen', 'Kevin Garnett', 'Gilbert Arenas', 'Vince Carter', 'P.J. Brown', 'Marcus Camby', 'Shawn Marion']\n",
      "Data for year 2005 already exists at Raw_player_data_sets/mvp_stats_2005.csv. Checking formatting...\n",
      "Column names reformatted for year 2005 if necessary. Skipping fetching...\n",
      "2006 :  ['Steve Nash', 'LeBron James', 'Dirk Nowitzki', 'Kobe Bryant', 'Chauncey Billups', 'Dwyane Wade', 'Elton Brand', 'Tim Duncan', 'Tony Parker', 'Allen Iverson', 'Shawn Marion']\n",
      "Data for year 2006 already exists at Raw_player_data_sets/mvp_stats_2006.csv. Checking formatting...\n",
      "Column names reformatted for year 2006 if necessary. Skipping fetching...\n",
      "2007 :  ['Dirk Nowitzki', 'Steve Nash', 'Kobe Bryant', 'Tim Duncan', 'LeBron James', 'Tracy McGrady', 'Chris Bosh', 'Gilbert Arenas', 'Carlos Boozer', 'Kevin Garnett', 'Chauncey Billups', \"Shaquille O'Neal\", 'Dwyane Wade', \"Amar'e Stoudemire\", 'Carmelo Anthony', 'Baron Davis', 'Tony Parker']\n",
      "Data for year 2007 already exists at Raw_player_data_sets/mvp_stats_2007.csv. Checking formatting...\n",
      "Column names reformatted for year 2007 if necessary. Skipping fetching...\n",
      "2008 :  ['Kobe Bryant', 'Chris Paul', 'Kevin Garnett', 'LeBron James', 'Dwight Howard', \"Amar'e Stoudemire\", 'Tim Duncan', 'Tracy McGrady', 'Steve Nash', 'Manu Ginóbili', 'Dirk Nowitzki', 'Deron Williams', 'Carmelo Anthony', 'Carlos Boozer', 'Antawn Jamison', 'Paul Pierce', 'Rasheed Wallace']\n",
      "Data for year 2008 already exists at Raw_player_data_sets/mvp_stats_2008.csv. Checking formatting...\n",
      "Column names reformatted for year 2008 if necessary. Skipping fetching...\n",
      "2009 :  ['LeBron James', 'Kobe Bryant', 'Dwyane Wade', 'Dwight Howard', 'Chris Paul', 'Chauncey Billups', 'Paul Pierce', 'Tony Parker', 'Brandon Roy', 'Dirk Nowitzki', 'Tim Duncan', 'Yao Ming']\n",
      "Data for year 2009 already exists at Raw_player_data_sets/mvp_stats_2009.csv. Checking formatting...\n",
      "Column names reformatted for year 2009 if necessary. Skipping fetching...\n",
      "2010 :  ['LeBron James', 'Kevin Durant', 'Kobe Bryant', 'Dwight Howard', 'Dwyane Wade', 'Carmelo Anthony', 'Dirk Nowitzki', 'Steve Nash', 'Deron Williams', \"Amar'e Stoudemire\", 'Manu Ginóbili', 'Chauncey Billups', 'Chris Bosh', 'Stephen Jackson', 'Joe Johnson', 'LeBron James', 'Kevin Durant', 'Kobe Bryant', 'Dwight Howard', 'Dwyane Wade', 'Carmelo Anthony', 'Dirk Nowitzki', 'Steve Nash', 'Deron Williams', \"Amar'e Stoudemire\", 'Manu Ginóbili', 'Chauncey Billups', 'Chris Bosh', 'Stephen Jackson', 'Joe Johnson']\n",
      "Data for year 2010 already exists at Raw_player_data_sets/mvp_stats_2010.csv. Checking formatting...\n",
      "Column names reformatted for year 2010 if necessary. Skipping fetching...\n",
      "2011 :  ['Derrick Rose', 'Dwight Howard', 'LeBron James', 'Kobe Bryant', 'Kevin Durant', 'Dirk Nowitzki', 'Dwyane Wade', 'Manu Ginóbili', \"Amar'e Stoudemire\", 'Blake Griffin', 'Rajon Rondo', 'Tony Parker', 'Chris Paul']\n",
      "Data for year 2011 already exists at Raw_player_data_sets/mvp_stats_2011.csv. Checking formatting...\n",
      "Column names reformatted for year 2011 if necessary. Skipping fetching...\n",
      "2012 :  ['LeBron James', 'Kevin Durant', 'Chris Paul', 'Kobe Bryant', 'Tony Parker', 'Kevin Love', 'Dwight Howard', 'Rajon Rondo', 'Steve Nash', 'Dwyane Wade', 'Derrick Rose', 'Dirk Nowitzki', 'Russell Westbrook', 'Tim Duncan', 'Joe Johnson']\n",
      "Data for year 2012 already exists at Raw_player_data_sets/mvp_stats_2012.csv. Checking formatting...\n",
      "Column names reformatted for year 2012 if necessary. Skipping fetching...\n",
      "2013 :  ['LeBron James', 'Kevin Durant', 'Carmelo Anthony', 'Chris Paul', 'Kobe Bryant', 'Tony Parker', 'Tim Duncan', 'James Harden', 'Russell Westbrook', 'Dwyane Wade', 'Stephen Curry', 'Kevin Garnett', 'Marc Gasol', 'Ty Lawson', 'David Lee', 'Joakim Noah']\n",
      "Data for year 2013 already exists at Raw_player_data_sets/mvp_stats_2013.csv. Checking formatting...\n",
      "Column names reformatted for year 2013 if necessary. Skipping fetching...\n",
      "2014 :  ['Kevin Durant', 'LeBron James', 'Blake Griffin', 'Joakim Noah', 'James Harden', 'Stephen Curry', 'Chris Paul', 'Al Jefferson', 'Paul George', 'LaMarcus Aldridge', 'Kevin Love', 'Tim Duncan', 'Tony Parker', 'Dirk Nowitzki', 'Carmelo Anthony', 'Goran Dragić', 'Mike Conley']\n",
      "Data for year 2014 already exists at Raw_player_data_sets/mvp_stats_2014.csv. Checking formatting...\n",
      "Column names reformatted for year 2014 if necessary. Skipping fetching...\n",
      "2015 :  ['Stephen Curry', 'James Harden', 'LeBron James', 'Russell Westbrook', 'Anthony Davis', 'Chris Paul', 'LaMarcus Aldridge', 'Marc Gasol', 'Blake Griffin', 'Tim Duncan', 'Kawhi Leonard', 'Klay Thompson']\n",
      "Data for year 2015 already exists at Raw_player_data_sets/mvp_stats_2015.csv. Checking formatting...\n",
      "Column names reformatted for year 2015 if necessary. Skipping fetching...\n",
      "2016 :  ['Stephen Curry', 'Kawhi Leonard', 'LeBron James', 'Russell Westbrook', 'Kevin Durant', 'Chris Paul', 'Draymond Green', 'Damian Lillard', 'James Harden', 'Kyle Lowry']\n",
      "Data for year 2016 already exists at Raw_player_data_sets/mvp_stats_2016.csv. Checking formatting...\n",
      "Column names reformatted for year 2016 if necessary. Skipping fetching...\n",
      "2017 :  ['Russell Westbrook', 'James Harden', 'Kawhi Leonard', 'LeBron James', 'Isaiah Thomas', 'Stephen Curry', 'Giannis Antetokounmpo', 'John Wall', 'Anthony Davis', 'Kevin Durant', 'DeMar DeRozan']\n",
      "Data for year 2017 already exists at Raw_player_data_sets/mvp_stats_2017.csv. Checking formatting...\n",
      "Column names reformatted for year 2017 if necessary. Skipping fetching...\n",
      "2018 :  ['James Harden', 'LeBron James', 'Anthony Davis', 'Damian Lillard', 'Russell Westbrook', 'Giannis Antetokounmpo', 'Kevin Durant', 'DeMar DeRozan', 'LaMarcus Aldridge', 'Jimmy Butler', 'Stephen Curry', 'Joel Embiid', 'Victor Oladipo']\n",
      "Data for year 2018 already exists at Raw_player_data_sets/mvp_stats_2018.csv. Checking formatting...\n",
      "Column names reformatted for year 2018 if necessary. Skipping fetching...\n",
      "2019 :  ['Giannis Antetokounmpo', 'James Harden', 'Paul George', 'Nikola Jokić', 'Stephen Curry', 'Damian Lillard', 'Joel Embiid', 'Kevin Durant', 'Kawhi Leonard', 'Russell Westbrook', 'Rudy Gobert', 'LeBron James']\n",
      "Data for year 2019 already exists at Raw_player_data_sets/mvp_stats_2019.csv. Checking formatting...\n",
      "Column names reformatted for year 2019 if necessary. Skipping fetching...\n",
      "2020 :  ['Giannis Antetokounmpo', 'LeBron James', 'James Harden', 'Luka Dončić', 'Kawhi Leonard', 'Anthony Davis', 'Chris Paul', 'Damian Lillard', 'Nikola Jokić', 'Pascal Siakam', 'Jimmy Butler', 'Jayson Tatum']\n",
      "Data for year 2020 already exists at Raw_player_data_sets/mvp_stats_2020.csv. Checking formatting...\n",
      "Column names reformatted for year 2020 if necessary. Skipping fetching...\n",
      "2021 :  ['Nikola Jokić', 'Joel Embiid', 'Stephen Curry', 'Giannis Antetokounmpo', 'Chris Paul', 'Luka Dončić', 'Damian Lillard', 'Julius Randle', 'Derrick Rose', 'Rudy Gobert', 'Russell Westbrook', 'Ben Simmons', 'James Harden', 'LeBron James', 'Kawhi Leonard']\n",
      "Data for year 2021 already exists at Raw_player_data_sets/mvp_stats_2021.csv. Checking formatting...\n",
      "Column names reformatted for year 2021 if necessary. Skipping fetching...\n",
      "2022 :  ['Nikola Jokić', 'Joel Embiid', 'Giannis Antetokounmpo', 'Devin Booker', 'Luka Dončić', 'Jayson Tatum', 'Ja Morant', 'Stephen Curry', 'Chris Paul', 'DeMar DeRozan', 'Kevin Durant', 'LeBron James']\n",
      "Data for year 2022 already exists at Raw_player_data_sets/mvp_stats_2022.csv. Checking formatting...\n",
      "Column names reformatted for year 2022 if necessary. Skipping fetching...\n",
      "2023 :  ['Joel Embiid', 'Nikola Jokić', 'Giannis Antetokounmpo', 'Jayson Tatum', 'Shai Gilgeous-Alexander', 'Donovan Mitchell', 'Domantas Sabonis', 'Luka Dončić', 'Stephen Curry', 'Jimmy Butler', \"De'Aaron Fox\", 'Jalen Brunson', 'Ja Morant']\n",
      "Data for year 2023 already exists at Raw_player_data_sets/mvp_stats_2023.csv. Checking formatting...\n",
      "Column names reformatted for year 2023 if necessary. Skipping fetching...\n",
      "Missing players for year 2001: [\"Shaquille O'Neal\"]\n",
      "Missing players for year 2002: [\"Shaquille O'Neal\"]\n",
      "Missing players for year 2003: [\"Shaquille O'Neal\"]\n",
      "Missing players for year 2004: [\"Jermaine O'Neal\", \"Shaquille O'Neal\"]\n",
      "Missing players for year 2005: [\"Shaquille O'Neal\", 'P.J. Brown']\n",
      "Missing players for year 2007: [\"Shaquille O'Neal\"]\n"
     ]
    }
   ],
   "source": [
    "mvp_data = load_combined_mvp_2001_2023()\n",
    "players_by_year = mvp_data.groupby('year')['Player'].apply(list).to_dict()\n",
    "\n",
    "\n",
    "fetch_mvp_stats_by_year(mvp_data, False, player_data_path)\n",
    "\n",
    "tempdic = check_missing_players(players_by_year,player_data_path)"
   ]
  },
  {
   "cell_type": "markdown",
   "metadata": {},
   "source": [
    "### Missing player entries:"
   ]
  },
  {
   "cell_type": "code",
   "execution_count": 3,
   "metadata": {},
   "outputs": [
    {
     "name": "stdout",
     "output_type": "stream",
     "text": [
      "Year 2001: 1 missing player(s)\n",
      "Missing Players:\n",
      " - Shaquille O'Neal\n",
      "----------------------------------------\n",
      "Year 2002: 1 missing player(s)\n",
      "Missing Players:\n",
      " - Shaquille O'Neal\n",
      "----------------------------------------\n",
      "Year 2003: 1 missing player(s)\n",
      "Missing Players:\n",
      " - Shaquille O'Neal\n",
      "----------------------------------------\n",
      "Year 2004: 2 missing player(s)\n",
      "Missing Players:\n",
      " - Jermaine O'Neal\n",
      " - Shaquille O'Neal\n",
      "----------------------------------------\n",
      "Year 2005: 2 missing player(s)\n",
      "Missing Players:\n",
      " - Shaquille O'Neal\n",
      " - P.J. Brown\n",
      "----------------------------------------\n",
      "Year 2007: 1 missing player(s)\n",
      "Missing Players:\n",
      " - Shaquille O'Neal\n",
      "----------------------------------------\n"
     ]
    }
   ],
   "source": [
    "print_missing_players(tempdic)"
   ]
  },
  {
   "cell_type": "markdown",
   "metadata": {},
   "source": [
    "### generate windows and new data sets"
   ]
  },
  {
   "cell_type": "code",
   "execution_count": 4,
   "metadata": {},
   "outputs": [
    {
     "data": {
      "text/plain": [
       "<generator object get_iterable_window_data at 0x148fadb90>"
      ]
     },
     "execution_count": 4,
     "metadata": {},
     "output_type": "execute_result"
    }
   ],
   "source": [
    "windowed_years = generate_3_wide_window(players_by_year)\n",
    "\n",
    "get_iterable_window_data(players_by_year=players_by_year, data_path=player_data_path)\n",
    "\n"
   ]
  },
  {
   "cell_type": "markdown",
   "metadata": {},
   "source": []
  },
  {
   "cell_type": "code",
   "execution_count": 5,
   "metadata": {},
   "outputs": [
    {
     "name": "stdout",
     "output_type": "stream",
     "text": [
      "Processing window with years: [2001, 2002, 2003]\n"
     ]
    }
   ],
   "source": [
    "# Define the player data path and players_by_year dictionary for testing purposes\n",
    "player_data_path = 'Raw_player_data_sets'\n",
    "players_by_year = {\n",
    "    2001: ['Allen Iverson', 'Tim Duncan', \"Shaquille O'Neal\"],\n",
    "    2002: ['Tim Duncan', 'Jason Kidd', \"Shaquille O'Neal\"],\n",
    "    2003: ['Tim Duncan', 'Kevin Garnett', 'Kobe Bryant']\n",
    "}\n",
    "\n",
    "# Get the iterator for window data\n",
    "window_data_iterator = get_iterable_window_data(players_by_year, player_data_path)\n",
    "\n",
    "# Save the combined sections from the first iteration\n",
    "first_iteration = next(window_data_iterator)\n",
    "\n",
    "# Save the combined sections as CSV files with meaningful names\n",
    "first_iteration['combined_start_section'].to_csv('combined_start_section_window_2001_2003.csv', index=False)\n",
    "first_iteration['combined_middle_section'].to_csv('combined_middle_section_window_2001_2003.csv', index=False)\n",
    "first_iteration['combined_finish_section'].to_csv('combined_finish_section_window_2001_2003.csv', index=False)\n"
   ]
  }
 ],
 "metadata": {
  "kernelspec": {
   "display_name": "base",
   "language": "python",
   "name": "python3"
  },
  "language_info": {
   "codemirror_mode": {
    "name": "ipython",
    "version": 3
   },
   "file_extension": ".py",
   "mimetype": "text/x-python",
   "name": "python",
   "nbconvert_exporter": "python",
   "pygments_lexer": "ipython3",
   "version": "3.12.2"
  }
 },
 "nbformat": 4,
 "nbformat_minor": 2
}
